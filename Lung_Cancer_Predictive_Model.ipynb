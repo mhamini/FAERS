{
 "cells": [
  {
   "cell_type": "markdown",
   "metadata": {},
   "source": [
    "# Drug recommender system for patients with Lung Cancer indication"
   ]
  },
  {
   "cell_type": "code",
   "execution_count": 1,
   "metadata": {},
   "outputs": [
    {
     "name": "stderr",
     "output_type": "stream",
     "text": [
      "C:\\ProgramData\\Anaconda2\\lib\\site-packages\\sklearn\\cross_validation.py:41: DeprecationWarning: This module was deprecated in version 0.18 in favor of the model_selection module into which all the refactored classes and functions are moved. Also note that the interface of the new CV iterators are different from that of this module. This module will be removed in 0.20.\n",
      "  \"This module will be removed in 0.20.\", DeprecationWarning)\n"
     ]
    }
   ],
   "source": [
    "from __future__ import division\n",
    "import pandas as pd\n",
    "import warnings\n",
    "warnings.filterwarnings('ignore')\n",
    "import numpy as np\n",
    "\n",
    "from difflib import SequenceMatcher\n",
    "\n",
    "import seaborn as sns\n",
    "import matplotlib.pyplot as plt\n",
    "%matplotlib inline\n",
    "\n",
    "from sklearn.preprocessing import LabelEncoder\n",
    "from sklearn.pipeline import Pipeline\n",
    "#import decisiontreeclassifier\n",
    "from sklearn import tree\n",
    "from sklearn.tree import DecisionTreeClassifier\n",
    "#import logisticregression classifier\n",
    "from sklearn.linear_model import LogisticRegression\n",
    "import statsmodels.api as sm\n",
    "#import knn classifier\n",
    "from sklearn.neighbors import KNeighborsClassifier\n",
    "from sklearn import svm\n",
    "from sklearn.multiclass import OneVsRestClassifier\n",
    "from sklearn.svm import SVC\n",
    "from sklearn.ensemble import RandomForestClassifier\n",
    "\n",
    "#for validating your classification model\n",
    "from sklearn.cross_validation import train_test_split\n",
    "from sklearn.cross_validation import cross_val_score\n",
    "from sklearn import metrics\n",
    "from sklearn.metrics import roc_curve, auc\n",
    "\n",
    "# feature selection\n",
    "from sklearn.feature_selection import RFE\n",
    "from sklearn.ensemble import ExtraTreesClassifier\n",
    "from sklearn.feature_selection import SelectKBest\n",
    "from sklearn.feature_selection import chi2"
   ]
  },
  {
   "cell_type": "markdown",
   "metadata": {},
   "source": [
    "## Reading the cleaned dataset"
   ]
  },
  {
   "cell_type": "code",
   "execution_count": 25,
   "metadata": {},
   "outputs": [
    {
     "data": {
      "text/html": [
       "<div>\n",
       "<style scoped>\n",
       "    .dataframe tbody tr th:only-of-type {\n",
       "        vertical-align: middle;\n",
       "    }\n",
       "\n",
       "    .dataframe tbody tr th {\n",
       "        vertical-align: top;\n",
       "    }\n",
       "\n",
       "    .dataframe thead th {\n",
       "        text-align: right;\n",
       "    }\n",
       "</style>\n",
       "<table border=\"1\" class=\"dataframe\">\n",
       "  <thead>\n",
       "    <tr style=\"text-align: right;\">\n",
       "      <th></th>\n",
       "      <th>drugname</th>\n",
       "      <th>age</th>\n",
       "      <th>gndr_cod</th>\n",
       "      <th>wt</th>\n",
       "      <th>reporter_country</th>\n",
       "      <th>de</th>\n",
       "      <th>lt</th>\n",
       "      <th>ho</th>\n",
       "      <th>ds</th>\n",
       "      <th>ca</th>\n",
       "      <th>ri</th>\n",
       "      <th>ot</th>\n",
       "      <th>pt</th>\n",
       "    </tr>\n",
       "  </thead>\n",
       "  <tbody>\n",
       "    <tr>\n",
       "      <th>0</th>\n",
       "      <td>bibw 2992</td>\n",
       "      <td>79.67</td>\n",
       "      <td>0.0</td>\n",
       "      <td>61.0</td>\n",
       "      <td>country not specified</td>\n",
       "      <td>0</td>\n",
       "      <td>0</td>\n",
       "      <td>1</td>\n",
       "      <td>0</td>\n",
       "      <td>0</td>\n",
       "      <td>0</td>\n",
       "      <td>0</td>\n",
       "      <td>abdominal pain</td>\n",
       "    </tr>\n",
       "    <tr>\n",
       "      <th>1</th>\n",
       "      <td>bibw 2992</td>\n",
       "      <td>79.67</td>\n",
       "      <td>0.0</td>\n",
       "      <td>61.0</td>\n",
       "      <td>country not specified</td>\n",
       "      <td>0</td>\n",
       "      <td>0</td>\n",
       "      <td>1</td>\n",
       "      <td>0</td>\n",
       "      <td>0</td>\n",
       "      <td>0</td>\n",
       "      <td>0</td>\n",
       "      <td>blood creatinine increased</td>\n",
       "    </tr>\n",
       "    <tr>\n",
       "      <th>2</th>\n",
       "      <td>bibw 2992</td>\n",
       "      <td>79.67</td>\n",
       "      <td>0.0</td>\n",
       "      <td>61.0</td>\n",
       "      <td>country not specified</td>\n",
       "      <td>0</td>\n",
       "      <td>0</td>\n",
       "      <td>1</td>\n",
       "      <td>0</td>\n",
       "      <td>0</td>\n",
       "      <td>0</td>\n",
       "      <td>0</td>\n",
       "      <td>diarrhoea</td>\n",
       "    </tr>\n",
       "    <tr>\n",
       "      <th>3</th>\n",
       "      <td>bibw 2992</td>\n",
       "      <td>79.67</td>\n",
       "      <td>0.0</td>\n",
       "      <td>61.0</td>\n",
       "      <td>country not specified</td>\n",
       "      <td>0</td>\n",
       "      <td>0</td>\n",
       "      <td>1</td>\n",
       "      <td>0</td>\n",
       "      <td>0</td>\n",
       "      <td>0</td>\n",
       "      <td>0</td>\n",
       "      <td>pleural effusion</td>\n",
       "    </tr>\n",
       "    <tr>\n",
       "      <th>4</th>\n",
       "      <td>bibw 2992</td>\n",
       "      <td>79.67</td>\n",
       "      <td>0.0</td>\n",
       "      <td>61.0</td>\n",
       "      <td>country not specified</td>\n",
       "      <td>0</td>\n",
       "      <td>0</td>\n",
       "      <td>1</td>\n",
       "      <td>0</td>\n",
       "      <td>0</td>\n",
       "      <td>0</td>\n",
       "      <td>0</td>\n",
       "      <td>weight decreased</td>\n",
       "    </tr>\n",
       "  </tbody>\n",
       "</table>\n",
       "</div>"
      ],
      "text/plain": [
       "    drugname    age  gndr_cod    wt       reporter_country  de  lt  ho  ds  \\\n",
       "0  bibw 2992  79.67       0.0  61.0  country not specified   0   0   1   0   \n",
       "1  bibw 2992  79.67       0.0  61.0  country not specified   0   0   1   0   \n",
       "2  bibw 2992  79.67       0.0  61.0  country not specified   0   0   1   0   \n",
       "3  bibw 2992  79.67       0.0  61.0  country not specified   0   0   1   0   \n",
       "4  bibw 2992  79.67       0.0  61.0  country not specified   0   0   1   0   \n",
       "\n",
       "   ca  ri  ot                          pt  \n",
       "0   0   0   0              abdominal pain  \n",
       "1   0   0   0  blood creatinine increased  \n",
       "2   0   0   0                   diarrhoea  \n",
       "3   0   0   0            pleural effusion  \n",
       "4   0   0   0            weight decreased  "
      ]
     },
     "execution_count": 25,
     "metadata": {},
     "output_type": "execute_result"
    }
   ],
   "source": [
    "df=pd.read_csv('fda_lungcancer.csv')\n",
    "df.head()"
   ]
  },
  {
   "cell_type": "code",
   "execution_count": 22,
   "metadata": {},
   "outputs": [
    {
     "data": {
      "text/plain": [
       "8319"
      ]
     },
     "execution_count": 22,
     "metadata": {},
     "output_type": "execute_result"
    }
   ],
   "source": [
    "len(df)"
   ]
  },
  {
   "cell_type": "markdown",
   "metadata": {},
   "source": [
    "## Data Preprocessing"
   ]
  },
  {
   "cell_type": "code",
   "execution_count": 26,
   "metadata": {},
   "outputs": [
    {
     "data": {
      "text/html": [
       "<div>\n",
       "<style scoped>\n",
       "    .dataframe tbody tr th:only-of-type {\n",
       "        vertical-align: middle;\n",
       "    }\n",
       "\n",
       "    .dataframe tbody tr th {\n",
       "        vertical-align: top;\n",
       "    }\n",
       "\n",
       "    .dataframe thead th {\n",
       "        text-align: right;\n",
       "    }\n",
       "</style>\n",
       "<table border=\"1\" class=\"dataframe\">\n",
       "  <thead>\n",
       "    <tr style=\"text-align: right;\">\n",
       "      <th></th>\n",
       "      <th>age</th>\n",
       "      <th>wt</th>\n",
       "      <th>de</th>\n",
       "      <th>lt</th>\n",
       "      <th>ho</th>\n",
       "      <th>ds</th>\n",
       "      <th>ca</th>\n",
       "      <th>ri</th>\n",
       "      <th>ot</th>\n",
       "      <th>gndr_cod</th>\n",
       "      <th>...</th>\n",
       "      <th>drugname_vitamin b12 /00056201/</th>\n",
       "      <th>drugname_vorinostat</th>\n",
       "      <th>drugname_vp-16</th>\n",
       "      <th>drugname_xalkori</th>\n",
       "      <th>drugname_xeloda</th>\n",
       "      <th>drugname_xgeva</th>\n",
       "      <th>drugname_yervoy</th>\n",
       "      <th>drugname_zileuton</th>\n",
       "      <th>drugname_zometa</th>\n",
       "      <th>drugname_zykadia</th>\n",
       "    </tr>\n",
       "  </thead>\n",
       "  <tbody>\n",
       "    <tr>\n",
       "      <th>0</th>\n",
       "      <td>79.67</td>\n",
       "      <td>61.0</td>\n",
       "      <td>0</td>\n",
       "      <td>0</td>\n",
       "      <td>1</td>\n",
       "      <td>0</td>\n",
       "      <td>0</td>\n",
       "      <td>0</td>\n",
       "      <td>0</td>\n",
       "      <td>0.0</td>\n",
       "      <td>...</td>\n",
       "      <td>0</td>\n",
       "      <td>0</td>\n",
       "      <td>0</td>\n",
       "      <td>0</td>\n",
       "      <td>0</td>\n",
       "      <td>0</td>\n",
       "      <td>0</td>\n",
       "      <td>0</td>\n",
       "      <td>0</td>\n",
       "      <td>0</td>\n",
       "    </tr>\n",
       "    <tr>\n",
       "      <th>1</th>\n",
       "      <td>79.67</td>\n",
       "      <td>61.0</td>\n",
       "      <td>0</td>\n",
       "      <td>0</td>\n",
       "      <td>1</td>\n",
       "      <td>0</td>\n",
       "      <td>0</td>\n",
       "      <td>0</td>\n",
       "      <td>0</td>\n",
       "      <td>0.0</td>\n",
       "      <td>...</td>\n",
       "      <td>0</td>\n",
       "      <td>0</td>\n",
       "      <td>0</td>\n",
       "      <td>0</td>\n",
       "      <td>0</td>\n",
       "      <td>0</td>\n",
       "      <td>0</td>\n",
       "      <td>0</td>\n",
       "      <td>0</td>\n",
       "      <td>0</td>\n",
       "    </tr>\n",
       "    <tr>\n",
       "      <th>2</th>\n",
       "      <td>79.67</td>\n",
       "      <td>61.0</td>\n",
       "      <td>0</td>\n",
       "      <td>0</td>\n",
       "      <td>1</td>\n",
       "      <td>0</td>\n",
       "      <td>0</td>\n",
       "      <td>0</td>\n",
       "      <td>0</td>\n",
       "      <td>0.0</td>\n",
       "      <td>...</td>\n",
       "      <td>0</td>\n",
       "      <td>0</td>\n",
       "      <td>0</td>\n",
       "      <td>0</td>\n",
       "      <td>0</td>\n",
       "      <td>0</td>\n",
       "      <td>0</td>\n",
       "      <td>0</td>\n",
       "      <td>0</td>\n",
       "      <td>0</td>\n",
       "    </tr>\n",
       "    <tr>\n",
       "      <th>3</th>\n",
       "      <td>79.67</td>\n",
       "      <td>61.0</td>\n",
       "      <td>0</td>\n",
       "      <td>0</td>\n",
       "      <td>1</td>\n",
       "      <td>0</td>\n",
       "      <td>0</td>\n",
       "      <td>0</td>\n",
       "      <td>0</td>\n",
       "      <td>0.0</td>\n",
       "      <td>...</td>\n",
       "      <td>0</td>\n",
       "      <td>0</td>\n",
       "      <td>0</td>\n",
       "      <td>0</td>\n",
       "      <td>0</td>\n",
       "      <td>0</td>\n",
       "      <td>0</td>\n",
       "      <td>0</td>\n",
       "      <td>0</td>\n",
       "      <td>0</td>\n",
       "    </tr>\n",
       "    <tr>\n",
       "      <th>4</th>\n",
       "      <td>79.67</td>\n",
       "      <td>61.0</td>\n",
       "      <td>0</td>\n",
       "      <td>0</td>\n",
       "      <td>1</td>\n",
       "      <td>0</td>\n",
       "      <td>0</td>\n",
       "      <td>0</td>\n",
       "      <td>0</td>\n",
       "      <td>0.0</td>\n",
       "      <td>...</td>\n",
       "      <td>0</td>\n",
       "      <td>0</td>\n",
       "      <td>0</td>\n",
       "      <td>0</td>\n",
       "      <td>0</td>\n",
       "      <td>0</td>\n",
       "      <td>0</td>\n",
       "      <td>0</td>\n",
       "      <td>0</td>\n",
       "      <td>0</td>\n",
       "    </tr>\n",
       "  </tbody>\n",
       "</table>\n",
       "<p>5 rows × 355 columns</p>\n",
       "</div>"
      ],
      "text/plain": [
       "     age    wt  de  lt  ho  ds  ca  ri  ot  gndr_cod        ...         \\\n",
       "0  79.67  61.0   0   0   1   0   0   0   0       0.0        ...          \n",
       "1  79.67  61.0   0   0   1   0   0   0   0       0.0        ...          \n",
       "2  79.67  61.0   0   0   1   0   0   0   0       0.0        ...          \n",
       "3  79.67  61.0   0   0   1   0   0   0   0       0.0        ...          \n",
       "4  79.67  61.0   0   0   1   0   0   0   0       0.0        ...          \n",
       "\n",
       "   drugname_vitamin b12 /00056201/  drugname_vorinostat  drugname_vp-16  \\\n",
       "0                                0                    0               0   \n",
       "1                                0                    0               0   \n",
       "2                                0                    0               0   \n",
       "3                                0                    0               0   \n",
       "4                                0                    0               0   \n",
       "\n",
       "   drugname_xalkori  drugname_xeloda  drugname_xgeva  drugname_yervoy  \\\n",
       "0                 0                0               0                0   \n",
       "1                 0                0               0                0   \n",
       "2                 0                0               0                0   \n",
       "3                 0                0               0                0   \n",
       "4                 0                0               0                0   \n",
       "\n",
       "   drugname_zileuton  drugname_zometa  drugname_zykadia  \n",
       "0                  0                0                 0  \n",
       "1                  0                0                 0  \n",
       "2                  0                0                 0  \n",
       "3                  0                0                 0  \n",
       "4                  0                0                 0  \n",
       "\n",
       "[5 rows x 355 columns]"
      ]
     },
     "execution_count": 26,
     "metadata": {},
     "output_type": "execute_result"
    }
   ],
   "source": [
    "dummy_col = pd.get_dummies(df[['gndr_cod','drugname']])\n",
    "df=df.drop(['drugname','gndr_cod','reporter_country','pt'] , axis=1)\n",
    "df = pd.concat([df, dummy_col], axis=1)\n",
    "df.head()"
   ]
  },
  {
   "cell_type": "code",
   "execution_count": 5,
   "metadata": {
    "scrolled": true
   },
   "outputs": [
    {
     "data": {
      "text/plain": [
       "ho                                              -0.298437\n",
       "drugname_xalkori                                -0.046749\n",
       "ds                                              -0.036395\n",
       "drugname_zykadia                                -0.035763\n",
       "drugname_cisplatin                              -0.035216\n",
       "drugname_bevacizumab                            -0.032160\n",
       "drugname_tarceva                                -0.027771\n",
       "pt_atrial fibrillation                          -0.027459\n",
       "drugname_etoposide                              -0.027273\n",
       "pt_pyrexia                                      -0.026830\n",
       "drugname_erlotinib (tablet)                     -0.026810\n",
       "drugname_dabrafenib                             -0.026373\n",
       "drugname_gilotrif                               -0.025073\n",
       "drugname_crizotinib                             -0.023929\n",
       "pt_infection                                    -0.023580\n",
       "pt_hypocalcaemia                                -0.023580\n",
       "drugname_bibw 2992                              -0.023444\n",
       "pt_oesophagitis                                 -0.022959\n",
       "drugname_cetuximab                              -0.022695\n",
       "drugname_investigational drug                   -0.022053\n",
       "pt_diverticulitis                               -0.022053\n",
       "pt_epistaxis                                    -0.021960\n",
       "pt_pancytopenia                                 -0.021866\n",
       "pt_nausea                                       -0.021551\n",
       "ri                                              -0.021520\n",
       "pt_fatigue                                      -0.020595\n",
       "pt_diarrhoea                                    -0.020475\n",
       "drugname_abraxane                               -0.020447\n",
       "pt_blood alkaline phosphatase increased         -0.020414\n",
       "pt_cellulitis                                   -0.020414\n",
       "                                                   ...   \n",
       "drugname_ptk 787a                                0.043327\n",
       "pt_oesophageal fistula                           0.043327\n",
       "pt_shock                                         0.043650\n",
       "pt_blood albumin decreased                       0.043650\n",
       "drugname_sorafenib (raf kinase inhibitor)        0.043650\n",
       "pt_multi-organ failure                           0.045805\n",
       "drugname_bevacizumab genentech                   0.049107\n",
       "drugname_sti571                                  0.050032\n",
       "drugname_capecitabine                            0.050032\n",
       "drugname_sorafenib 200 mg tablets bayer          0.050032\n",
       "pt_congestive cardiomyopathy                     0.050032\n",
       "pt_blood urea increased                          0.050032\n",
       "pt_respiratory failure                           0.052154\n",
       "pt_asthenia                                      0.052667\n",
       "drugname_bevacizumab (injection for infusion)    0.055369\n",
       "drugname_topotecan (topotecan)                   0.055941\n",
       "drugname_erlotinib osi                           0.055941\n",
       "drugname_zometa                                  0.056445\n",
       "pt_cardiac arrest                                0.057142\n",
       "pt_sudden death                                  0.060227\n",
       "pt_malignant neoplasm progression                0.062918\n",
       "drugname_pemetrexed disodium                     0.064778\n",
       "drugname_tlk286                                  0.066198\n",
       "drugname_taxotere                                0.078468\n",
       "drugname_su11248                                 0.079136\n",
       "lt                                               0.081764\n",
       "gndr_cod                                         0.085600\n",
       "pt_cardio-respiratory arrest                     0.093054\n",
       "de                                               1.000000\n",
       "ca                                                    NaN\n",
       "Name: de, Length: 1558, dtype: float64"
      ]
     },
     "execution_count": 5,
     "metadata": {},
     "output_type": "execute_result"
    }
   ],
   "source": [
    "df.corr()['de'].sort_values()"
   ]
  },
  {
   "cell_type": "code",
   "execution_count": 6,
   "metadata": {},
   "outputs": [
    {
     "data": {
      "text/plain": [
       "Text(0.5,1,'Selecting k with the Elbow Method')"
      ]
     },
     "execution_count": 6,
     "metadata": {},
     "output_type": "execute_result"
    },
    {
     "data": {
      "image/png": "[encoded data removed]",
      "text/plain": [
       "<Figure size 432x288 with 1 Axes>"
      ]
     },
     "metadata": {},
     "output_type": "display_data"
    }
   ],
   "source": [
    "# Clustering to see pattaerns of drugs, age, wt, reactions, ... wihtout outcomes\n",
    "X=df[['age','wt','gndr_cod']]\n",
    "from sklearn.cluster import KMeans\n",
    "from scipy.spatial.distance import cdist \n",
    "K = range(1, 10) \n",
    "\n",
    "meandistortions = []\n",
    "\n",
    "for k in K: \n",
    "    kmeans = KMeans(n_clusters=k) \n",
    "    kmeans.fit(X) \n",
    "    meandistortions.append(sum(np.min(cdist(X, kmeans.cluster_centers_, 'euclidean'), axis=1)) / X.shape[0]) \n",
    "\n",
    "plt.plot(K, meandistortions, 'bx-') \n",
    "plt.xlabel('k') \n",
    "plt.ylabel('Average distortion') \n",
    "plt.title('Selecting k with the Elbow Method') "
   ]
  },
  {
   "cell_type": "code",
   "execution_count": 7,
   "metadata": {},
   "outputs": [
    {
     "data": {
      "text/html": [
       "<div>\n",
       "<style scoped>\n",
       "    .dataframe tbody tr th:only-of-type {\n",
       "        vertical-align: middle;\n",
       "    }\n",
       "\n",
       "    .dataframe tbody tr th {\n",
       "        vertical-align: top;\n",
       "    }\n",
       "\n",
       "    .dataframe thead th {\n",
       "        text-align: right;\n",
       "    }\n",
       "</style>\n",
       "<table border=\"1\" class=\"dataframe\">\n",
       "  <thead>\n",
       "    <tr style=\"text-align: right;\">\n",
       "      <th></th>\n",
       "      <th>age</th>\n",
       "      <th>wt</th>\n",
       "      <th>de</th>\n",
       "      <th>lt</th>\n",
       "      <th>ho</th>\n",
       "      <th>ds</th>\n",
       "      <th>ca</th>\n",
       "      <th>ri</th>\n",
       "      <th>ot</th>\n",
       "      <th>gndr_cod</th>\n",
       "      <th>...</th>\n",
       "      <th>drugname_zoledronic acid</th>\n",
       "      <th>drugname_zoledronic acid (manufacturer unknown)</th>\n",
       "      <th>drugname_zoledronsyre, actavis</th>\n",
       "      <th>drugname_zoloft</th>\n",
       "      <th>drugname_zolpidem</th>\n",
       "      <th>drugname_zometa</th>\n",
       "      <th>drugname_zometa (zoledronate) solution for injection</th>\n",
       "      <th>drugname_zometa acid</th>\n",
       "      <th>drugname_zophren</th>\n",
       "      <th>cluster</th>\n",
       "    </tr>\n",
       "  </thead>\n",
       "  <tbody>\n",
       "    <tr>\n",
       "      <th>0</th>\n",
       "      <td>74.0</td>\n",
       "      <td>44.0</td>\n",
       "      <td>0</td>\n",
       "      <td>0</td>\n",
       "      <td>0</td>\n",
       "      <td>0</td>\n",
       "      <td>0</td>\n",
       "      <td>0</td>\n",
       "      <td>1</td>\n",
       "      <td>0.0</td>\n",
       "      <td>...</td>\n",
       "      <td>0</td>\n",
       "      <td>0</td>\n",
       "      <td>0</td>\n",
       "      <td>0</td>\n",
       "      <td>0</td>\n",
       "      <td>1</td>\n",
       "      <td>0</td>\n",
       "      <td>0</td>\n",
       "      <td>0</td>\n",
       "      <td>3</td>\n",
       "    </tr>\n",
       "    <tr>\n",
       "      <th>1</th>\n",
       "      <td>74.0</td>\n",
       "      <td>44.0</td>\n",
       "      <td>0</td>\n",
       "      <td>0</td>\n",
       "      <td>0</td>\n",
       "      <td>0</td>\n",
       "      <td>0</td>\n",
       "      <td>0</td>\n",
       "      <td>1</td>\n",
       "      <td>0.0</td>\n",
       "      <td>...</td>\n",
       "      <td>0</td>\n",
       "      <td>0</td>\n",
       "      <td>0</td>\n",
       "      <td>0</td>\n",
       "      <td>0</td>\n",
       "      <td>1</td>\n",
       "      <td>0</td>\n",
       "      <td>0</td>\n",
       "      <td>0</td>\n",
       "      <td>3</td>\n",
       "    </tr>\n",
       "    <tr>\n",
       "      <th>2</th>\n",
       "      <td>74.0</td>\n",
       "      <td>44.0</td>\n",
       "      <td>0</td>\n",
       "      <td>0</td>\n",
       "      <td>0</td>\n",
       "      <td>0</td>\n",
       "      <td>0</td>\n",
       "      <td>0</td>\n",
       "      <td>1</td>\n",
       "      <td>0.0</td>\n",
       "      <td>...</td>\n",
       "      <td>0</td>\n",
       "      <td>0</td>\n",
       "      <td>0</td>\n",
       "      <td>0</td>\n",
       "      <td>0</td>\n",
       "      <td>1</td>\n",
       "      <td>0</td>\n",
       "      <td>0</td>\n",
       "      <td>0</td>\n",
       "      <td>3</td>\n",
       "    </tr>\n",
       "    <tr>\n",
       "      <th>3</th>\n",
       "      <td>74.0</td>\n",
       "      <td>44.0</td>\n",
       "      <td>0</td>\n",
       "      <td>0</td>\n",
       "      <td>0</td>\n",
       "      <td>0</td>\n",
       "      <td>0</td>\n",
       "      <td>0</td>\n",
       "      <td>1</td>\n",
       "      <td>0.0</td>\n",
       "      <td>...</td>\n",
       "      <td>0</td>\n",
       "      <td>0</td>\n",
       "      <td>0</td>\n",
       "      <td>0</td>\n",
       "      <td>0</td>\n",
       "      <td>1</td>\n",
       "      <td>0</td>\n",
       "      <td>0</td>\n",
       "      <td>0</td>\n",
       "      <td>3</td>\n",
       "    </tr>\n",
       "    <tr>\n",
       "      <th>4</th>\n",
       "      <td>74.0</td>\n",
       "      <td>44.0</td>\n",
       "      <td>0</td>\n",
       "      <td>0</td>\n",
       "      <td>0</td>\n",
       "      <td>0</td>\n",
       "      <td>0</td>\n",
       "      <td>0</td>\n",
       "      <td>1</td>\n",
       "      <td>0.0</td>\n",
       "      <td>...</td>\n",
       "      <td>0</td>\n",
       "      <td>0</td>\n",
       "      <td>0</td>\n",
       "      <td>0</td>\n",
       "      <td>0</td>\n",
       "      <td>1</td>\n",
       "      <td>0</td>\n",
       "      <td>0</td>\n",
       "      <td>0</td>\n",
       "      <td>3</td>\n",
       "    </tr>\n",
       "  </tbody>\n",
       "</table>\n",
       "<p>5 rows × 618 columns</p>\n",
       "</div>"
      ],
      "text/plain": [
       "    age    wt  de  lt  ho  ds  ca  ri  ot  gndr_cod   ...     \\\n",
       "0  74.0  44.0   0   0   0   0   0   0   1       0.0   ...      \n",
       "1  74.0  44.0   0   0   0   0   0   0   1       0.0   ...      \n",
       "2  74.0  44.0   0   0   0   0   0   0   1       0.0   ...      \n",
       "3  74.0  44.0   0   0   0   0   0   0   1       0.0   ...      \n",
       "4  74.0  44.0   0   0   0   0   0   0   1       0.0   ...      \n",
       "\n",
       "   drugname_zoledronic acid  drugname_zoledronic acid (manufacturer unknown)  \\\n",
       "0                         0                                                0   \n",
       "1                         0                                                0   \n",
       "2                         0                                                0   \n",
       "3                         0                                                0   \n",
       "4                         0                                                0   \n",
       "\n",
       "   drugname_zoledronsyre, actavis  drugname_zoloft  drugname_zolpidem  \\\n",
       "0                               0                0                  0   \n",
       "1                               0                0                  0   \n",
       "2                               0                0                  0   \n",
       "3                               0                0                  0   \n",
       "4                               0                0                  0   \n",
       "\n",
       "   drugname_zometa  drugname_zometa (zoledronate) solution for injection  \\\n",
       "0                1                                                  0      \n",
       "1                1                                                  0      \n",
       "2                1                                                  0      \n",
       "3                1                                                  0      \n",
       "4                1                                                  0      \n",
       "\n",
       "   drugname_zometa acid  drugname_zophren  cluster  \n",
       "0                     0                 0        3  \n",
       "1                     0                 0        3  \n",
       "2                     0                 0        3  \n",
       "3                     0                 0        3  \n",
       "4                     0                 0        3  \n",
       "\n",
       "[5 rows x 618 columns]"
      ]
     },
     "execution_count": 7,
     "metadata": {},
     "output_type": "execute_result"
    }
   ],
   "source": [
    "from sklearn.cluster import KMeans\n",
    "k_means = KMeans(init='k-means++', n_clusters=5, random_state=0)\n",
    "k_means.fit(X)\n",
    "df_cl = pd.DataFrame(k_means.labels_, columns = ['cluster'])\n",
    "df2 = df.join(df_cl)\n",
    "df2.head()"
   ]
  },
  {
   "cell_type": "code",
   "execution_count": 8,
   "metadata": {},
   "outputs": [
    {
     "data": {
      "text/plain": [
       "0    7649\n",
       "3    6636\n",
       "1    5569\n",
       "2    4727\n",
       "4    1188\n",
       "Name: cluster, dtype: int64"
      ]
     },
     "execution_count": 8,
     "metadata": {},
     "output_type": "execute_result"
    }
   ],
   "source": [
    "df2['cluster'].value_counts()"
   ]
  },
  {
   "cell_type": "code",
   "execution_count": 24,
   "metadata": {
    "scrolled": true
   },
   "outputs": [
    {
     "data": {
      "text/plain": [
       "ho                                    -0.131645\n",
       "drugname_tamoxifen citrate            -0.049988\n",
       "drugname_tamoxifen                    -0.048661\n",
       "ds                                    -0.048325\n",
       "drugname_lapatinib                    -0.040179\n",
       "drugname_femara                       -0.035361\n",
       "drugname_faslodex                     -0.034233\n",
       "ot                                    -0.030189\n",
       "drugname_amisfostine                  -0.028821\n",
       "drugname_pertuzumab                   -0.028581\n",
       "gndr_cod                              -0.027245\n",
       "drugname_theratope                    -0.026810\n",
       "drugname_ibrance                      -0.026320\n",
       "drugname_docetaxel.                   -0.026058\n",
       "wt                                    -0.024738\n",
       "drugname_trastuzumab                  -0.023977\n",
       "drugname_carboplatin.                 -0.022784\n",
       "drugname_letrozole                    -0.022000\n",
       "drugname_cyclophosphamide.            -0.021422\n",
       "drugname_megace                       -0.021324\n",
       "drugname_perjeta                      -0.021156\n",
       "drugname_doxorubicin hcl              -0.021021\n",
       "drugname_exemestane                   -0.020861\n",
       "drugname_oxaliplatin                  -0.020484\n",
       "drugname_zoladex                      -0.020341\n",
       "drugname_anastrozole.                 -0.019905\n",
       "drugname_paclitaxel                   -0.019343\n",
       "drugname_anastrozole                  -0.017527\n",
       "drugname_myocet                       -0.016714\n",
       "drugname_carboplatin                  -0.016012\n",
       "                                         ...   \n",
       "drugname_hysron h                      0.031583\n",
       "drugname_cyclophosphamid               0.032495\n",
       "drugname_taxol                         0.035743\n",
       "drugname_topotecan                     0.036777\n",
       "drugname_fosamax                       0.038087\n",
       "drugname_morphine sulfate              0.038682\n",
       "drugname_mitoxantrone hydrochloride    0.038682\n",
       "drugname_antiemetics                   0.038682\n",
       "drugname_methycobal                    0.038682\n",
       "drugname_metformin hcl                 0.038682\n",
       "drugname_zolpidem                      0.038682\n",
       "drugname_neurotropin                   0.038682\n",
       "drugname_furtulon                      0.044571\n",
       "drugname_ultravist                     0.044667\n",
       "drugname_cyclophosphamide              0.045805\n",
       "drugname_cgs 20267 t30748+tab          0.055982\n",
       "drugname_aredia                        0.061200\n",
       "drugname_aromasine                     0.062955\n",
       "drugname_hysron                        0.063094\n",
       "drugname_farmorubicin                  0.063644\n",
       "drugname_abraxane (paclitaxel)         0.067010\n",
       "drugname_paclitaxel sandoz             0.074086\n",
       "drugname_chlorambucil                  0.074086\n",
       "drugname_zometa                        0.075465\n",
       "age                                    0.079152\n",
       "drugname_navelbine                     0.087723\n",
       "drugname_cytoxan                       0.131746\n",
       "drugname_nolvadex                      0.137684\n",
       "de                                     1.000000\n",
       "ca                                          NaN\n",
       "Name: de, Length: 512, dtype: float64"
      ]
     },
     "execution_count": 24,
     "metadata": {},
     "output_type": "execute_result"
    }
   ],
   "source": [
    "df2.corr()['de'].sort_values()"
   ]
  },
  {
   "cell_type": "code",
   "execution_count": 9,
   "metadata": {
    "scrolled": true
   },
   "outputs": [
    {
     "data": {
      "text/plain": [
       "de                               1.000000\n",
       "drugname_zometa                  0.246045\n",
       "age                              0.144433\n",
       "drugname_aredia                  0.109159\n",
       "drugname_aromasin                0.096235\n",
       "drugname_arimidex                0.087387\n",
       "drugname_vinflunine              0.075473\n",
       "drugname_cgs 20267 t30748+tab    0.071994\n",
       "drugname_capecitabine            0.070327\n",
       "drugname_taxol                   0.069502\n",
       "Name: de, dtype: float64"
      ]
     },
     "execution_count": 9,
     "metadata": {},
     "output_type": "execute_result"
    }
   ],
   "source": [
    "df2[df2['cluster']==0].corr()['de'].sort_values(ascending=False).head(10)"
   ]
  },
  {
   "cell_type": "code",
   "execution_count": 10,
   "metadata": {},
   "outputs": [
    {
     "data": {
      "text/plain": [
       "<matplotlib.axes._subplots.AxesSubplot at 0xe86ab70>"
      ]
     },
     "execution_count": 10,
     "metadata": {},
     "output_type": "execute_result"
    },
    {
     "data": {
      "image/png": "[encoded data removed]",
      "text/plain": [
       "<Figure size 432x288 with 1 Axes>"
      ]
     },
     "metadata": {},
     "output_type": "display_data"
    }
   ],
   "source": [
    "df2[df2['cluster']==0].corr()['de'].sort_values(ascending=False).head(10).plot.bar()"
   ]
  },
  {
   "cell_type": "code",
   "execution_count": 11,
   "metadata": {
    "scrolled": true
   },
   "outputs": [
    {
     "data": {
      "text/plain": [
       "de                                                                                1.000000\n",
       "drugname_nolvadex                                                                 0.281181\n",
       "drugname_navelbine                                                                0.247651\n",
       "drugname_aromasine                                                                0.188432\n",
       "drugname_cyclophosphamide                                                         0.177136\n",
       "drugname_chlorambucil                                                             0.136747\n",
       "drugname_paclitaxel sandoz                                                        0.136747\n",
       "drugname_ixempra kit                                                              0.101537\n",
       "drugname_cyclophosphamid                                                          0.100949\n",
       "drugname_vinorelbine                                                              0.098716\n",
       "drugname_ultravist                                                                0.082409\n",
       "drugname_endoxan                                                                  0.076212\n",
       "drugname_antiemetics                                                              0.071362\n",
       "drugname_abraxane (abraxane for injection suspension (paclitaxel protein-bound    0.058262\n",
       "drugname_doxil                                                                    0.058262\n",
       "drugname_bevacizumab                                                              0.046151\n",
       "drugname_xeloda                                                                   0.043309\n",
       "drugname_paclitaxel protein-bound/albumin                                         0.041194\n",
       "drugname_fareston                                                                 0.041194\n",
       "drugname_doxorubicin hydrochloride                                                0.041194\n",
       "drugname_blinded lee011                                                           0.041194\n",
       "drugname_anastrozol                                                               0.041194\n",
       "drugname_palbociclib                                                              0.032936\n",
       "drugname_avastin                                                                  0.032761\n",
       "drugname_irinotecan                                                               0.031006\n",
       "drugname_capecitabine.                                                            0.031006\n",
       "drugname_epirubicin                                                               0.030270\n",
       "drugname_docetaxel                                                                0.028819\n",
       "age                                                                               0.026395\n",
       "drugname_taxotere                                                                 0.024841\n",
       "                                                                                    ...   \n",
       "drugname_trastuzumab (trastuzumab)pwdr + solvent, infusion soln, 440 mg                NaN\n",
       "drugname_trastuzumab 4 mgkg                                                            NaN\n",
       "drugname_trastuzumab-mcc-dm1                                                           NaN\n",
       "drugname_trelstar depot                                                                NaN\n",
       "drugname_ts-1                                                                          NaN\n",
       "drugname_tykerb [ ingredient unknown ]                                                 NaN\n",
       "drugname_tyrosine kinase inhibitor (neratinib)                                         NaN\n",
       "drugname_uft                                                                           NaN\n",
       "drugname_uromitexan baxter                                                             NaN\n",
       "drugname_vectibix                                                                      NaN\n",
       "drugname_vinflunine                                                                    NaN\n",
       "drugname_vinorelbina                                                                   NaN\n",
       "drugname_vinorelbine tartrate                                                          NaN\n",
       "drugname_vinorelbine tartrate.                                                         NaN\n",
       "drugname_vitamin d                                                                     NaN\n",
       "drugname_vitamin e                                                                     NaN\n",
       "drugname_vondelis                                                                      NaN\n",
       "drugname_zd2171 code not broken                                                        NaN\n",
       "drugname_ziv-aflibercept                                                               NaN\n",
       "drugname_zoladex                                                                       NaN\n",
       "drugname_zoladex /00732102/                                                            NaN\n",
       "drugname_zoledronate t29581+                                                           NaN\n",
       "drugname_zoledronate t29581++bm                                                        NaN\n",
       "drugname_zoledronate t29581+solinj+bm                                                  NaN\n",
       "drugname_zoledronic acid (manufacturer unknown)                                        NaN\n",
       "drugname_zoledronsyre, actavis                                                         NaN\n",
       "drugname_zoloft                                                                        NaN\n",
       "drugname_zolpidem                                                                      NaN\n",
       "drugname_zophren                                                                       NaN\n",
       "cluster                                                                                NaN\n",
       "Name: de, Length: 618, dtype: float64"
      ]
     },
     "execution_count": 11,
     "metadata": {},
     "output_type": "execute_result"
    }
   ],
   "source": [
    "df2[df2['cluster']==1].corr()['de'].sort_values(ascending=False)"
   ]
  },
  {
   "cell_type": "code",
   "execution_count": 12,
   "metadata": {},
   "outputs": [
    {
     "data": {
      "text/plain": [
       "<matplotlib.axes._subplots.AxesSubplot at 0x12f7ccc0>"
      ]
     },
     "execution_count": 12,
     "metadata": {},
     "output_type": "execute_result"
    },
    {
     "data": {
      "image/png": "[encoded data removed]",
      "text/plain": [
       "<Figure size 432x288 with 1 Axes>"
      ]
     },
     "metadata": {},
     "output_type": "display_data"
    }
   ],
   "source": [
    "df2[df2['cluster']==1].corr()['de'].sort_values(ascending=False).head(10).plot.bar()"
   ]
  },
  {
   "cell_type": "code",
   "execution_count": 13,
   "metadata": {
    "scrolled": true
   },
   "outputs": [
    {
     "data": {
      "text/plain": [
       "de                                                                         1.000000\n",
       "drugname_farmorubicin                                                      0.137635\n",
       "drugname_abraxane (paclitaxel)                                             0.134320\n",
       "drugname_hysron                                                            0.126557\n",
       "drugname_cgs 20267 t30748+tab                                              0.117818\n",
       "drugname_xeloda                                                            0.113170\n",
       "drugname_furtulon                                                          0.093041\n",
       "drugname_erlotinib hydrochloride                                           0.089499\n",
       "drugname_mitoxantrone hydrochloride                                        0.077501\n",
       "drugname_morphine sulfate                                                  0.077501\n",
       "drugname_topotecan                                                         0.073877\n",
       "drugname_cgs 20267 t30748+                                                 0.069227\n",
       "drugname_kadcyla                                                           0.065555\n",
       "drugname_myocet(doxorubicin/doxorubicin hydrochloride)                     0.063272\n",
       "lt                                                                         0.061800\n",
       "drugname_paclitaxel.                                                       0.059529\n",
       "drugname_abraxane                                                          0.053172\n",
       "drugname_epirubicin                                                        0.052057\n",
       "drugname_taxol                                                             0.049948\n",
       "drugname_fluorouracil                                                      0.048709\n",
       "drugname_herceptin                                                         0.047350\n",
       "drugname_comparator trastuzumab                                            0.045608\n",
       "drugname_ixempra                                                           0.044735\n",
       "drugname_sorafenib or placebo                                              0.044735\n",
       "drugname_larotaxel                                                         0.044735\n",
       "drugname_nolvadex                                                          0.039293\n",
       "drugname_trastuzumab                                                       0.037136\n",
       "drugname_adriamycin pfs                                                    0.028955\n",
       "drugname_avastin                                                           0.025649\n",
       "drugname_trastuzumab emtansine                                             0.024452\n",
       "                                                                             ...   \n",
       "drugname_tolnexa                                                                NaN\n",
       "drugname_transtuzumab                                                           NaN\n",
       "drugname_trastuzumab (trastuzumab) pwdr + solvent, infusion soln, 440mg         NaN\n",
       "drugname_trastuzumab (trastuzumab)pwdr + solvent, infusion soln, 440 mg         NaN\n",
       "drugname_trastuzumab 4 mgkg                                                     NaN\n",
       "drugname_trelstar depot                                                         NaN\n",
       "drugname_ts-1                                                                   NaN\n",
       "drugname_tyrosine kinase inhibitor (neratinib)                                  NaN\n",
       "drugname_tyverb                                                                 NaN\n",
       "drugname_ultravist                                                              NaN\n",
       "drugname_uromitexan baxter                                                      NaN\n",
       "drugname_vectibix                                                               NaN\n",
       "drugname_velcade                                                                NaN\n",
       "drugname_vinorelbine tartrate                                                   NaN\n",
       "drugname_vinorelbine tartrate.                                                  NaN\n",
       "drugname_vitamin d                                                              NaN\n",
       "drugname_zd2171 code not broken                                                 NaN\n",
       "drugname_zd6474 code not broken                                                 NaN\n",
       "drugname_zofran                                                                 NaN\n",
       "drugname_zoladex /00732102/                                                     NaN\n",
       "drugname_zoladex la                                                             NaN\n",
       "drugname_zoledronate t29581+                                                    NaN\n",
       "drugname_zoledronic acid                                                        NaN\n",
       "drugname_zoledronic acid (manufacturer unknown)                                 NaN\n",
       "drugname_zoledronsyre, actavis                                                  NaN\n",
       "drugname_zolpidem                                                               NaN\n",
       "drugname_zometa (zoledronate) solution for injection                            NaN\n",
       "drugname_zometa acid                                                            NaN\n",
       "drugname_zophren                                                                NaN\n",
       "cluster                                                                         NaN\n",
       "Name: de, Length: 618, dtype: float64"
      ]
     },
     "execution_count": 13,
     "metadata": {},
     "output_type": "execute_result"
    }
   ],
   "source": [
    "df2[df2['cluster']==2].corr()['de'].sort_values(ascending=False)"
   ]
  },
  {
   "cell_type": "code",
   "execution_count": 17,
   "metadata": {},
   "outputs": [
    {
     "data": {
      "text/plain": [
       "<matplotlib.axes._subplots.AxesSubplot at 0x13948978>"
      ]
     },
     "execution_count": 17,
     "metadata": {},
     "output_type": "execute_result"
    },
    {
     "data": {
      "image/png": "[encoded data removed]",
      "text/plain": [
       "<Figure size 432x288 with 1 Axes>"
      ]
     },
     "metadata": {},
     "output_type": "display_data"
    }
   ],
   "source": [
    "df2[df2['cluster']==2].corr()['de'].sort_values(ascending=False).head(10).plot.bar()"
   ]
  },
  {
   "cell_type": "code",
   "execution_count": 18,
   "metadata": {},
   "outputs": [
    {
     "data": {
      "text/plain": [
       "<matplotlib.axes._subplots.AxesSubplot at 0x13a58e10>"
      ]
     },
     "execution_count": 18,
     "metadata": {},
     "output_type": "execute_result"
    },
    {
     "data": {
      "image/png": "[encoded data removed]",
      "text/plain": [
       "<Figure size 432x288 with 1 Axes>"
      ]
     },
     "metadata": {},
     "output_type": "display_data"
    }
   ],
   "source": [
    "df2[df2['cluster']==3].corr()['de'].sort_values(ascending=False).head(10).plot.bar()"
   ]
  },
  {
   "cell_type": "code",
   "execution_count": 19,
   "metadata": {},
   "outputs": [
    {
     "data": {
      "text/plain": [
       "<matplotlib.axes._subplots.AxesSubplot at 0x13c98438>"
      ]
     },
     "execution_count": 19,
     "metadata": {},
     "output_type": "execute_result"
    },
    {
     "data": {
      "image/png": "[encoded data removed]",
      "text/plain": [
       "<Figure size 432x288 with 1 Axes>"
      ]
     },
     "metadata": {},
     "output_type": "display_data"
    }
   ],
   "source": [
    "df2[df2['cluster']==4].corr()['de'].sort_values(ascending=False).head(10).plot.bar()"
   ]
  },
  {
   "cell_type": "code",
   "execution_count": 22,
   "metadata": {},
   "outputs": [
    {
     "name": "stdout",
     "output_type": "stream",
     "text": [
      "Death model\n",
      "0.7256499805975941\n",
      "[[1666  660]\n",
      " [  47  204]]\n"
     ]
    }
   ],
   "source": [
    "y=df2['de']\n",
    "X=df2.drop(['wt','gndr_cod','age','de','lt','ho','ds','ca','ri','ot'], axis=1)\n",
    "X_train, X_test, y_train, y_test = train_test_split(X, y, test_size=0.1, random_state=0, stratify=y)\n",
    "clf1 = RandomForestClassifier(n_estimators=100, class_weight='balanced', n_jobs=-1)    #building 100 decision trees\n",
    "clf1.fit(X_train, y_train)\n",
    "print \"Death model\"\n",
    "print metrics.accuracy_score(y_test, clf1.predict(X_test))\n",
    "\n",
    "print metrics.confusion_matrix(y_test, clf1.predict(X_test))"
   ]
  },
  {
   "cell_type": "markdown",
   "metadata": {},
   "source": [
    "## Model Building"
   ]
  },
  {
   "cell_type": "code",
   "execution_count": 27,
   "metadata": {},
   "outputs": [
    {
     "name": "stdout",
     "output_type": "stream",
     "text": [
      "Death model\n",
      "oob score: 0.9346867904367571\n",
      "0.9314903846153846\n",
      "[[674  24]\n",
      " [ 33 101]]\n",
      "=======================================================\n",
      "Life threating model\n",
      "oob score: 0.9667423534125819\n",
      "0.9639423076923077\n",
      "[[757  15]\n",
      " [ 15  45]]\n",
      "=======================================================\n",
      "Hospitalization model\n",
      "oob score: 0.8278349138506745\n",
      "0.8173076923076923\n",
      "[[428  69]\n",
      " [ 83 252]]\n",
      "=======================================================\n",
      "Disability model\n",
      "oob score: 0.9941231467877655\n",
      "0.9927884615384616\n",
      "[[813   2]\n",
      " [  4  13]]\n",
      "=======================================================\n",
      "Other Serious issues model\n",
      "oob score: 0.9469747562441565\n",
      "0.9290865384615384\n",
      "[[676  26]\n",
      " [ 33  97]]\n",
      "=======================================================\n"
     ]
    }
   ],
   "source": [
    "y=df['de']\n",
    "X=df.drop(['de','lt','ho','ds','ca','ri','ot'], axis=1)\n",
    "X_train, X_test, y_train, y_test = train_test_split(X, y, test_size=0.1, random_state=0, stratify=y)\n",
    "clf1 = RandomForestClassifier(n_estimators=1000, class_weight='balanced', n_jobs=-1, oob_score=True, random_state=0)    #building 100 decision trees\n",
    "clf1.fit(X_train, y_train)\n",
    "print \"Death model\"\n",
    "print \"oob score:\", clf1.oob_score_\n",
    "print metrics.accuracy_score(y_test, clf1.predict(X_test))\n",
    "\n",
    "print metrics.confusion_matrix(y_test, clf1.predict(X_test))\n",
    "print \"=======================================================\"\n",
    "y=df['lt']\n",
    "X=df.drop(['de','lt','ho','ds','ca','ri','ot'], axis=1)\n",
    "X_train, X_test, y_train, y_test = train_test_split(X, y, test_size=0.1, random_state=0, stratify=y)\n",
    "clf2 = RandomForestClassifier(n_estimators=100, class_weight='balanced', n_jobs=-1, oob_score=True, random_state=0)    #building 100 decision trees\n",
    "clf2.fit(X_train, y_train)\n",
    "print \"Life threating model\"\n",
    "print \"oob score:\", clf2.oob_score_\n",
    "print metrics.accuracy_score(y_test, clf2.predict(X_test))\n",
    "\n",
    "print metrics.confusion_matrix(y_test, clf2.predict(X_test))\n",
    "print \"=======================================================\"\n",
    "\n",
    "y=df['ho']\n",
    "X=df.drop(['de','lt','ho','ds','ca','ri','ot'], axis=1)\n",
    "X_train, X_test, y_train, y_test = train_test_split(X, y, test_size=0.1, random_state=0, stratify=y)\n",
    "clf3 = RandomForestClassifier(n_estimators=100, class_weight='balanced', n_jobs=-1, oob_score=True, random_state=0)    #building 100 decision trees\n",
    "clf3.fit(X_train, y_train)\n",
    "print \"Hospitalization model\"\n",
    "print \"oob score:\", clf3.oob_score_\n",
    "print metrics.accuracy_score(y_test, clf3.predict(X_test))\n",
    "\n",
    "print metrics.confusion_matrix(y_test, clf3.predict(X_test))\n",
    "print \"=======================================================\"\n",
    "\n",
    "y=df['ds']\n",
    "X=df.drop(['de','lt','ho','ds','ca','ri','ot'], axis=1)\n",
    "X_train, X_test, y_train, y_test = train_test_split(X, y, test_size=0.1, random_state=0, stratify=y)\n",
    "clf4 = RandomForestClassifier(n_estimators=100, class_weight='balanced', n_jobs=-1, oob_score=True, random_state=0)    #building 100 decision trees\n",
    "clf4.fit(X_train, y_train)\n",
    "print \"Disability model\"\n",
    "print \"oob score:\", clf4.oob_score_\n",
    "print metrics.accuracy_score(y_test, clf4.predict(X_test))\n",
    "\n",
    "print metrics.confusion_matrix(y_test, clf4.predict(X_test))\n",
    "print \"=======================================================\"\n",
    "\n",
    "y=df['ot']\n",
    "X=df.drop(['de','lt','ho','ds','ca','ri','ot'], axis=1)\n",
    "X_train, X_test, y_train, y_test = train_test_split(X, y, test_size=0.1, random_state=0, stratify=y)\n",
    "clf5 = RandomForestClassifier(n_estimators=100, class_weight='balanced', n_jobs=-1, oob_score=True, random_state=0)    #building 100 decision trees\n",
    "clf5.fit(X_train, y_train)\n",
    "print \"Other Serious issues model\"\n",
    "print \"oob score:\", clf5.oob_score_\n",
    "print metrics.accuracy_score(y_test, clf5.predict(X_test))\n",
    "\n",
    "print metrics.confusion_matrix(y_test, clf5.predict(X_test))\n",
    "print \"=======================================================\"\n",
    "\n",
    "X_test=X_test.reset_index(drop=True)"
   ]
  },
  {
   "cell_type": "code",
   "execution_count": 26,
   "metadata": {},
   "outputs": [
    {
     "name": "stdout",
     "output_type": "stream",
     "text": [
      "Death model\n",
      "0.9635234769111369\n",
      "[[2258   68]\n",
      " [  26  225]]\n"
     ]
    }
   ],
   "source": [
    "y=df['de']\n",
    "X=df.drop(['de','lt','ho','ds','ca','ri','ot'], axis=1)\n",
    "X_train, X_test, y_train, y_test = train_test_split(X, y, test_size=0.1, random_state=0, stratify=y)\n",
    "clf1 = RandomForestClassifier(n_estimators=100, class_weight='balanced')    #building 100 decision trees\n",
    "clf1.fit(X_train, y_train)\n",
    "print \"Death model\"\n",
    "print metrics.accuracy_score(y_test, clf1.predict(X_test))\n",
    "\n",
    "print metrics.confusion_matrix(y_test, clf1.predict(X_test))"
   ]
  },
  {
   "cell_type": "code",
   "execution_count": 33,
   "metadata": {},
   "outputs": [
    {
     "name": "stdout",
     "output_type": "stream",
     "text": [
      "0.6426076833527358\n",
      "[[1465  861]\n",
      " [  60  191]]\n"
     ]
    }
   ],
   "source": [
    "svc = SVC(kernel='linear', class_weight='balanced', C=1.0, random_state=0)\n",
    "svc.fit(X_resampled, y_resampled)\n",
    "print metrics.accuracy_score(y_test, svc.predict(X_test))\n",
    "print metrics.confusion_matrix(y_test, svc.predict(X_test))"
   ]
  },
  {
   "cell_type": "code",
   "execution_count": 28,
   "metadata": {},
   "outputs": [
    {
     "name": "stdout",
     "output_type": "stream",
     "text": [
      "0.9041521148622429\n",
      "[[2313   13]\n",
      " [ 234   17]]\n"
     ]
    }
   ],
   "source": [
    "from sklearn.neural_network import MLPClassifier\n",
    "clf = MLPClassifier(activation='tanh' ,solver='lbfgs', alpha=1e-5, random_state=1)\n",
    "clf.fit(X_resampled, y_resampled)\n",
    "print metrics.accuracy_score(y_test, clf.predict(X_test))\n",
    "\n",
    "print metrics.confusion_matrix(y_test, clf.predict(X_test))"
   ]
  },
  {
   "cell_type": "code",
   "execution_count": 27,
   "metadata": {},
   "outputs": [
    {
     "name": "stdout",
     "output_type": "stream",
     "text": [
      "Death model\n",
      "oob score: 0.9677892918825561\n",
      "0.9631354287931704\n",
      "[[2256   70]\n",
      " [  25  226]]\n"
     ]
    }
   ],
   "source": [
    "from imblearn.under_sampling import TomekLinks\n",
    "X_resampled, y_resampled = TomekLinks(ratio='not minority').fit_sample(X_train, y_train)\n",
    "#X_train_res, X_test_res, y_train_res, y_test_res = train_test_split(X_resampled, y_resampled, test_size=0.1, random_state=0, stratify=y)\n",
    "clf1 = RandomForestClassifier(n_estimators=100, class_weight='balanced', n_jobs=-1, random_state=0, oob_score=True)    #building 50 decision trees\n",
    "clf1.fit(X_resampled, y_resampled)\n",
    "print \"Death model\"\n",
    "print \"oob score:\", clf1.oob_score_\n",
    "print metrics.accuracy_score(y_test, clf1.predict(X_test))\n",
    "\n",
    "print metrics.confusion_matrix(y_test, clf1.predict(X_test))"
   ]
  },
  {
   "cell_type": "code",
   "execution_count": 12,
   "metadata": {},
   "outputs": [
    {
     "name": "stdout",
     "output_type": "stream",
     "text": [
      "[0.16744186 0.05633803 0.0167364  0.29649596 0.25316456 0.26548673\n",
      " 0.35412475 0.66666667 0.03550296 0.02020202]\n",
      "0.21321599237463423\n"
     ]
    }
   ],
   "source": [
    "clf = RandomForestClassifier(n_estimators=100, class_weight='balanced')    #building 20 decision trees\n",
    "scores = cross_val_score(clf, X, y, scoring='f1', cv=10)\n",
    "clf.fit(X, y)\n",
    "print scores\n",
    "print scores.mean()"
   ]
  },
  {
   "cell_type": "code",
   "execution_count": 13,
   "metadata": {},
   "outputs": [],
   "source": [
    "import numpy as np\n",
    "import pandas as pd\n",
    "\n",
    "from sklearn.preprocessing import LabelBinarizer\n",
    "from sklearn.ensemble import RandomForestClassifier\n",
    "from sklearn.model_selection import train_test_split, GridSearchCV, StratifiedKFold\n",
    "from sklearn.metrics import roc_curve, precision_recall_curve, auc, make_scorer, recall_score, accuracy_score, precision_score, confusion_matrix\n",
    "\n",
    "import matplotlib.pyplot as plt\n",
    "plt.style.use(\"ggplot\")"
   ]
  },
  {
   "cell_type": "code",
   "execution_count": 14,
   "metadata": {},
   "outputs": [],
   "source": [
    "clf = RandomForestClassifier(n_jobs=-1)\n",
    "\n",
    "param_grid = {\n",
    "    'min_samples_split': [3, 5, 10], \n",
    "    'n_estimators' : [100, 300],\n",
    "    'max_depth': [3, 5, 15, 25],\n",
    "    'max_features': [3, 5, 10, 20]\n",
    "}\n",
    "\n",
    "scorers = {\n",
    "    'precision_score': make_scorer(precision_score),\n",
    "    'recall_score': make_scorer(recall_score),\n",
    "    'accuracy_score': make_scorer(accuracy_score)\n",
    "}"
   ]
  },
  {
   "cell_type": "code",
   "execution_count": 15,
   "metadata": {},
   "outputs": [],
   "source": [
    "def grid_search_wrapper(refit_score='precision_score'):\n",
    "    \"\"\"\n",
    "    fits a GridSearchCV classifier using refit_score for optimization\n",
    "    prints classifier performance metrics\n",
    "    \"\"\"\n",
    "    skf = StratifiedKFold(n_splits=10)\n",
    "    grid_search = GridSearchCV(clf, param_grid, scoring=scorers, refit=refit_score,\n",
    "                           cv=skf, return_train_score=True, n_jobs=-1)\n",
    "    grid_search.fit(X_train.values, y_train.values)\n",
    "\n",
    "    # make the predictions\n",
    "    y_pred = grid_search.predict(X_test.values)\n",
    "\n",
    "    print('Best params for {}'.format(refit_score))\n",
    "    print(grid_search.best_params_)\n",
    "\n",
    "    # confusion matrix on the test data.\n",
    "    print('\\nConfusion matrix of Random Forest optimized for {} on the test data:'.format(refit_score))\n",
    "    print(pd.DataFrame(confusion_matrix(y_test, y_pred),\n",
    "                 columns=['pred_neg', 'pred_pos'], index=['neg', 'pos']))\n",
    "    return grid_search"
   ]
  },
  {
   "cell_type": "code",
   "execution_count": 16,
   "metadata": {},
   "outputs": [
    {
     "name": "stdout",
     "output_type": "stream",
     "text": [
      "Best params for precision_score\n",
      "{'max_features': 10, 'min_samples_split': 5, 'n_estimators': 100, 'max_depth': 25}\n",
      "\n",
      "Confusion matrix of Random Forest optimized for precision_score on the test data:\n",
      "     pred_neg  pred_pos\n",
      "neg      2159         0\n",
      "pos        87         8\n"
     ]
    },
    {
     "data": {
      "text/plain": [
       "GridSearchCV(cv=StratifiedKFold(n_splits=10, random_state=None, shuffle=False),\n",
       "       error_score='raise',\n",
       "       estimator=RandomForestClassifier(bootstrap=True, class_weight=None, criterion='gini',\n",
       "            max_depth=None, max_features='auto', max_leaf_nodes=None,\n",
       "            min_impurity_decrease=0.0, min_impurity_split=None,\n",
       "            min_samples_leaf=1, min_samples_split=2,\n",
       "            min_weight_fraction_leaf=0.0, n_estimators=10, n_jobs=-1,\n",
       "            oob_score=False, random_state=None, verbose=0,\n",
       "            warm_start=False),\n",
       "       fit_params=None, iid=True, n_jobs=-1,\n",
       "       param_grid={'min_samples_split': [3, 5, 10], 'n_estimators': [100, 300], 'max_depth': [3, 5, 15, 25], 'max_features': [3, 5, 10, 20]},\n",
       "       pre_dispatch='2*n_jobs', refit='precision_score',\n",
       "       return_train_score=True,\n",
       "       scoring={'recall_score': make_scorer(recall_score), 'accuracy_score': make_scorer(accuracy_score), 'precision_score': make_scorer(precision_score)},\n",
       "       verbose=0)"
      ]
     },
     "execution_count": 16,
     "metadata": {},
     "output_type": "execute_result"
    }
   ],
   "source": [
    "grid_search_wrapper()"
   ]
  },
  {
   "cell_type": "markdown",
   "metadata": {},
   "source": [
    "## Function creating"
   ]
  },
  {
   "cell_type": "code",
   "execution_count": 19,
   "metadata": {
    "scrolled": true
   },
   "outputs": [],
   "source": [
    "def drug_recommender(age,wt,gndr):\n",
    "    \n",
    "\n",
    "    x=np.zeros(X_test.loc[0].shape)\n",
    "    out=pd.DataFrame(columns={'drug','score'})\n",
    "    min_prob=1.0\n",
    "    min_prob_i=3\n",
    "    for i in range(3,365):\n",
    "        x = np.zeros(x.shape)\n",
    "        x[0]=age\n",
    "        x[1]=wt\n",
    "        x[2]=gndr\n",
    "        x[i]=1\n",
    "        pred=10*clf1.predict_proba(x.reshape(1, -1))[0][1]+3*clf2.predict_proba(x.reshape(1, -1))[0][1]+2*clf3.predict_proba(x.reshape(1, -1))[0][1]+1.5*clf4.predict_proba(x.reshape(1, -1))[0][1]+clf5.predict_proba(x.reshape(1, -1))[0][1]\n",
    "        prob=pred\n",
    "        if prob <= min_prob:\n",
    "            min_prob=prob\n",
    "            min_prob_i=i\n",
    "        out=out.append(pd.DataFrame({'drug':[X_test.columns[i]],'score':[pred]}))\n",
    "    out=out.sort_values(['score'])\n",
    "    print \"Recommended Drug:\" ,X_test.columns[min_prob_i].replace(\"drugname_\", \"\")\n",
    "    print \"==============================================\"\n",
    "    return out.head()"
   ]
  },
  {
   "cell_type": "markdown",
   "metadata": {},
   "source": [
    "## Tesing"
   ]
  },
  {
   "cell_type": "code",
   "execution_count": 20,
   "metadata": {},
   "outputs": [
    {
     "name": "stdout",
     "output_type": "stream",
     "text": [
      "Recommended Drug: femara\n",
      "==============================================\n"
     ]
    },
    {
     "data": {
      "text/html": [
       "<div>\n",
       "<style scoped>\n",
       "    .dataframe tbody tr th:only-of-type {\n",
       "        vertical-align: middle;\n",
       "    }\n",
       "\n",
       "    .dataframe tbody tr th {\n",
       "        vertical-align: top;\n",
       "    }\n",
       "\n",
       "    .dataframe thead th {\n",
       "        text-align: right;\n",
       "    }\n",
       "</style>\n",
       "<table border=\"1\" class=\"dataframe\">\n",
       "  <thead>\n",
       "    <tr style=\"text-align: right;\">\n",
       "      <th></th>\n",
       "      <th>drug</th>\n",
       "      <th>score</th>\n",
       "    </tr>\n",
       "  </thead>\n",
       "  <tbody>\n",
       "    <tr>\n",
       "      <th>0</th>\n",
       "      <td>drugname_femara</td>\n",
       "      <td>0.138888</td>\n",
       "    </tr>\n",
       "    <tr>\n",
       "      <th>0</th>\n",
       "      <td>drugname_afinitor (rad) unknown</td>\n",
       "      <td>0.138888</td>\n",
       "    </tr>\n",
       "    <tr>\n",
       "      <th>0</th>\n",
       "      <td>drugname_letrozole.</td>\n",
       "      <td>0.212692</td>\n",
       "    </tr>\n",
       "    <tr>\n",
       "      <th>0</th>\n",
       "      <td>drugname_ibrance</td>\n",
       "      <td>0.280000</td>\n",
       "    </tr>\n",
       "    <tr>\n",
       "      <th>0</th>\n",
       "      <td>drugname_aromasine</td>\n",
       "      <td>0.287561</td>\n",
       "    </tr>\n",
       "  </tbody>\n",
       "</table>\n",
       "</div>"
      ],
      "text/plain": [
       "                              drug     score\n",
       "0                  drugname_femara  0.138888\n",
       "0  drugname_afinitor (rad) unknown  0.138888\n",
       "0              drugname_letrozole.  0.212692\n",
       "0                 drugname_ibrance  0.280000\n",
       "0               drugname_aromasine  0.287561"
      ]
     },
     "execution_count": 20,
     "metadata": {},
     "output_type": "execute_result"
    }
   ],
   "source": [
    "drug_recommender(78,58,0)"
   ]
  },
  {
   "cell_type": "code",
   "execution_count": null,
   "metadata": {},
   "outputs": [],
   "source": []
  }
 ],
 "metadata": {
  "kernelspec": {
   "display_name": "Python 2",
   "language": "python",
   "name": "python2"
  },
  "language_info": {
   "codemirror_mode": {
    "name": "ipython",
    "version": 2
   },
   "file_extension": ".py",
   "mimetype": "text/x-python",
   "name": "python",
   "nbconvert_exporter": "python",
   "pygments_lexer": "ipython2",
   "version": "2.7.15"
  }
 },
 "nbformat": 4,
 "nbformat_minor": 2
}
